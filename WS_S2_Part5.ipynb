{
 "cells": [
  {
   "cell_type": "markdown",
   "metadata": {},
   "source": [
    ">Shitanshu Kusmakar (<strong><em> shitanshu.kusmakar@anz.com </em></strong>)"
   ]
  },
  {
   "cell_type": "markdown",
   "metadata": {},
   "source": [
    "# Descriptive Statistics"
   ]
  },
  {
   "cell_type": "code",
   "execution_count": 1,
   "metadata": {},
   "outputs": [
    {
     "name": "stdout",
     "output_type": "stream",
     "text": [
      "    Name  Age  Rating\n",
      "0  Sarah   35    1.11\n",
      "1   Elen   46    4.21\n",
      "2  James   25    3.73\n",
      "3  Steve   46    4.75\n",
      "4   Mark   60    1.30\n",
      "5    Tom   39    3.70\n",
      "6    Dan   30    4.90\n"
     ]
    }
   ],
   "source": [
    "import pandas as pd\n",
    "import numpy as np\n",
    "\n",
    "#Create a Dictionary of series\n",
    "d = {'Name':pd.Series(['Sarah','Elen','James','Steve','Mark','Tom','Dan']),\n",
    "   'Age':pd.Series([35,46,25,46,60,39,30]),\n",
    "   'Rating':pd.Series([1.11,4.21,3.73,4.75,1.30,3.7,4.9])\n",
    "}\n",
    "\n",
    "#Create a DataFrame\n",
    "df = pd.DataFrame(d)\n",
    "print (df)"
   ]
  },
  {
   "cell_type": "code",
   "execution_count": 2,
   "metadata": {},
   "outputs": [
    {
     "name": "stdout",
     "output_type": "stream",
     "text": [
      "Name      SarahElenJamesSteveMarkTomDan\n",
      "Age                                 281\n",
      "Rating                             23.7\n",
      "dtype: object\n"
     ]
    }
   ],
   "source": [
    "print (df.sum())"
   ]
  },
  {
   "cell_type": "code",
   "execution_count": 3,
   "metadata": {},
   "outputs": [
    {
     "name": "stdout",
     "output_type": "stream",
     "text": [
      "0    36.11\n",
      "1    50.21\n",
      "2    28.73\n",
      "3    50.75\n",
      "4    61.30\n",
      "5    42.70\n",
      "6    34.90\n",
      "dtype: float64\n"
     ]
    }
   ],
   "source": [
    "print (df.sum(1))"
   ]
  },
  {
   "cell_type": "code",
   "execution_count": 4,
   "metadata": {},
   "outputs": [
    {
     "name": "stdout",
     "output_type": "stream",
     "text": [
      "Age       40.142857\n",
      "Rating     3.385714\n",
      "dtype: float64\n"
     ]
    }
   ],
   "source": [
    "print (df.mean())"
   ]
  },
  {
   "cell_type": "code",
   "execution_count": 5,
   "metadata": {},
   "outputs": [
    {
     "name": "stdout",
     "output_type": "stream",
     "text": [
      "Age       11.710801\n",
      "Rating     1.558855\n",
      "dtype: float64\n"
     ]
    }
   ],
   "source": [
    "print (df.std())"
   ]
  },
  {
   "cell_type": "code",
   "execution_count": 6,
   "metadata": {},
   "outputs": [
    {
     "name": "stdout",
     "output_type": "stream",
     "text": [
      "             Age    Rating\n",
      "count   7.000000  7.000000\n",
      "mean   40.142857  3.385714\n",
      "std    11.710801  1.558855\n",
      "min    25.000000  1.110000\n",
      "25%    32.500000  2.500000\n",
      "50%    39.000000  3.730000\n",
      "75%    46.000000  4.480000\n",
      "max    60.000000  4.900000\n"
     ]
    }
   ],
   "source": [
    "print (df.describe())"
   ]
  },
  {
   "cell_type": "code",
   "execution_count": 7,
   "metadata": {},
   "outputs": [
    {
     "name": "stdout",
     "output_type": "stream",
     "text": [
      "        Name\n",
      "count      7\n",
      "unique     7\n",
      "top     Elen\n",
      "freq       1\n"
     ]
    }
   ],
   "source": [
    "print (df.describe(include=['object']))"
   ]
  },
  {
   "cell_type": "code",
   "execution_count": 8,
   "metadata": {},
   "outputs": [
    {
     "name": "stdout",
     "output_type": "stream",
     "text": [
      "0         NaN\n",
      "1    1.000000\n",
      "2    0.500000\n",
      "3    0.333333\n",
      "4    0.250000\n",
      "5   -0.200000\n",
      "dtype: float64\n"
     ]
    }
   ],
   "source": [
    "import pandas as pd\n",
    "import numpy as np\n",
    "s = pd.Series([1,2,3,4,5,4])\n",
    "print (s.pct_change())"
   ]
  },
  {
   "cell_type": "code",
   "execution_count": 9,
   "metadata": {},
   "outputs": [
    {
     "name": "stdout",
     "output_type": "stream",
     "text": [
      "           0         1\n",
      "0        NaN       NaN\n",
      "1  -6.296042 -1.993328\n",
      "2  -1.929566 -0.317938\n",
      "3  -0.978454  0.978664\n",
      "4 -61.434316 -1.185260\n"
     ]
    }
   ],
   "source": [
    "df = pd.DataFrame(np.random.randn(5, 2))\n",
    "print (df.pct_change())"
   ]
  },
  {
   "cell_type": "code",
   "execution_count": 10,
   "metadata": {},
   "outputs": [
    {
     "name": "stdout",
     "output_type": "stream",
     "text": [
      "0.4619677182059185\n",
      "          a         b         c         d         e\n",
      "a  1.390517  0.461968  0.086144 -0.698488 -0.042220\n",
      "b  0.461968  1.424822  0.107292  0.494646 -0.252430\n",
      "c  0.086144  0.107292  0.904336  0.127167  0.205467\n",
      "d -0.698488  0.494646  0.127167  1.047719  0.056240\n",
      "e -0.042220 -0.252430  0.205467  0.056240  0.864576\n"
     ]
    }
   ],
   "source": [
    "import pandas as pd\n",
    "import numpy as np\n",
    "frame = pd.DataFrame(np.random.randn(10, 5), columns=['a', 'b', 'c', 'd', 'e'])\n",
    "print (frame['a'].cov(frame['b']))\n",
    "print (frame.cov())"
   ]
  },
  {
   "cell_type": "code",
   "execution_count": 11,
   "metadata": {},
   "outputs": [
    {
     "name": "stdout",
     "output_type": "stream",
     "text": [
      "0.12159220335106327\n",
      "          a         b         c         d         e\n",
      "a  1.000000  0.121592 -0.296291  0.166694  0.087779\n",
      "b  0.121592  1.000000 -0.098588  0.019594  0.244670\n",
      "c -0.296291 -0.098588  1.000000 -0.006818 -0.157801\n",
      "d  0.166694  0.019594 -0.006818  1.000000 -0.143962\n",
      "e  0.087779  0.244670 -0.157801 -0.143962  1.000000\n"
     ]
    }
   ],
   "source": [
    "import pandas as pd\n",
    "import numpy as np\n",
    "frame = pd.DataFrame(np.random.randn(10, 5), columns=['a', 'b', 'c', 'd', 'e'])\n",
    "\n",
    "print (frame['a'].corr(frame['b']))\n",
    "print (frame.corr())"
   ]
  },
  {
   "cell_type": "code",
   "execution_count": 12,
   "metadata": {},
   "outputs": [
    {
     "name": "stdout",
     "output_type": "stream",
     "text": [
      "                   A         B         C         D\n",
      "2000-01-01 -1.922491 -0.663765  1.403830  0.274972\n",
      "2000-01-02  0.922174 -0.220741 -0.590238  1.858573\n",
      "2000-01-03  0.121131  0.302204  0.333729  1.338322\n",
      "2000-01-04  2.263846  1.060605 -0.048472  0.585926\n",
      "2000-01-05  0.378063  0.590603  0.512007  1.346158\n",
      "2000-01-06 -0.765274  0.299633 -1.211522  0.722492\n",
      "2000-01-07  0.839254  0.049838 -0.655102  0.257068\n",
      "2000-01-08  1.668217  0.846937  0.258418 -0.309880\n",
      "2000-01-09 -0.627810  0.072209 -1.460872  0.254464\n",
      "2000-01-10  1.929397 -1.243974 -0.241686 -1.313911\n"
     ]
    }
   ],
   "source": [
    "import pandas as pd\n",
    "import numpy as np\n",
    "\n",
    "df = pd.DataFrame(np.random.randn(10, 4),\n",
    "index = pd.date_range('1/1/2000', periods=10),\n",
    "columns = ['A', 'B', 'C', 'D'])\n",
    "print(df)"
   ]
  },
  {
   "cell_type": "code",
   "execution_count": 13,
   "metadata": {},
   "outputs": [
    {
     "name": "stdout",
     "output_type": "stream",
     "text": [
      "                   A         B         C         D\n",
      "2000-01-01       NaN       NaN       NaN       NaN\n",
      "2000-01-02       NaN       NaN       NaN       NaN\n",
      "2000-01-03 -0.293062 -0.194101  0.382441  1.157289\n",
      "2000-01-04  1.102384  0.380689 -0.101660  1.260940\n",
      "2000-01-05  0.921013  0.651137  0.265755  1.090135\n",
      "2000-01-06  0.625545  0.650280 -0.249329  0.884859\n",
      "2000-01-07  0.150681  0.313358 -0.451539  0.775239\n",
      "2000-01-08  0.580732  0.398803 -0.536069  0.223227\n",
      "2000-01-09  0.626554  0.322995 -0.619185  0.067218\n",
      "2000-01-10  0.989935 -0.108276 -0.481380 -0.456442\n"
     ]
    }
   ],
   "source": [
    "print (df.rolling(window=3).mean())"
   ]
  },
  {
   "cell_type": "markdown",
   "metadata": {},
   "source": [
    "### References"
   ]
  },
  {
   "cell_type": "markdown",
   "metadata": {},
   "source": [
    "https://www.tutorialspoint.com/python_pandas/index.htm"
   ]
  },
  {
   "cell_type": "code",
   "execution_count": null,
   "metadata": {},
   "outputs": [],
   "source": []
  }
 ],
 "metadata": {
  "kernelspec": {
   "display_name": "Python 3",
   "language": "python",
   "name": "python3"
  },
  "language_info": {
   "codemirror_mode": {
    "name": "ipython",
    "version": 3
   },
   "file_extension": ".py",
   "mimetype": "text/x-python",
   "name": "python",
   "nbconvert_exporter": "python",
   "pygments_lexer": "ipython3",
   "version": "3.6.5"
  }
 },
 "nbformat": 4,
 "nbformat_minor": 4
}
